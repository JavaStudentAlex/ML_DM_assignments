{
 "cells": [
  {
   "cell_type": "code",
   "execution_count": 41,
   "outputs": [],
   "source": [
    "import csv\n",
    "import numpy as np\n",
    "from matplotlib import pyplot as plt"
   ],
   "metadata": {
    "collapsed": false,
    "pycharm": {
     "name": "#%%\n",
     "is_executing": false
    }
   }
  },
  {
   "cell_type": "code",
   "execution_count": 42,
   "outputs": [
    {
     "name": "stdout",
     "text": [
      "Data is read\n"
     ],
     "output_type": "stream"
    },
    {
     "data": {
      "text/plain": "array([['Green', 4.3, 122.0, 'Pear'],\n       ['Green', 4.6, 152.0, 'Pear'],\n       ['Green', 3.1, 85.0, 'Apple'],\n       ['Green', 3.6, 173.0, 'Pear'],\n       ['Green', 2.5, 65.0, 'Lemon'],\n       ['Green', 2.5, 70.0, 'Apple'],\n       ['Green', 2.7, 73.0, 'Apple'],\n       ['Green', 4.5, 110.0, 'Pear'],\n       ['Green', 2.5, 86.0, 'Apple'],\n       ['Green', 2.4, 68.0, 'Lemon'],\n       ['Green', 4.2, 126.0, 'Pear'],\n       ['Red', 3.7, 101.0, 'Apple'],\n       ['Red', 3.7, 100.0, 'Apple'],\n       ['Red', 3.4, 80.0, 'Apple'],\n       ['Yellow', 3.2, 79.0, 'Apple'],\n       ['Yellow', 3.1, 69.0, 'Lemon'],\n       ['Yellow', 2.1, 64.0, 'Apple'],\n       ['Yellow', 2.6, 58.0, 'Lemon'],\n       ['Yellow', 2.1, 40.0, 'Lemon'],\n       ['Yellow', 2.3, 60.0, 'Lemon'],\n       ['Yellow', 4.2, 105.0, 'Pear'],\n       ['Yellow', 2.1, 40.0, 'Lemon'],\n       ['Yellow', 3.2, 64.0, 'Lemon'],\n       ['Yellow', 2.9, 53.0, 'Lemon'],\n       ['Yellow', 4.1, 135.0, 'Pear'],\n       ['Yellow', 5.2, 142.0, 'Pear'],\n       ['Yellow', 2.3, 60.0, 'Lemon'],\n       ['Yellow', 0.0, 137.0, 'Pear'],\n       ['Yellow', 3.0, 98.0, 'Apple'],\n       ['Yellow', 2.4, 0.0, 'Lemon'],\n       ['Yellow', 4.1, 56.0, 'Lemon'],\n       ['Yellow', 4.1, 80.0, 'Apple'],\n       ['Yellow', 5.2, 141.0, 'Pear']], dtype=object)"
     },
     "metadata": {},
     "output_type": "execute_result",
     "execution_count": 42
    }
   ],
   "source": [
    "#read dataset from file\n",
    "dataset = []\n",
    "\n",
    "with open(\"assignment02.csv\") as csvfile:\n",
    "    reader = csv.reader(csvfile)\n",
    "    for word in csvfile:\n",
    "        color,radius,weight,class_name = word.strip().split(\",\")\n",
    "        if color == \"Color\":\n",
    "            continue\n",
    "        new_fruit = (color, float(radius), float(weight), class_name)\n",
    "        dataset.append(new_fruit)\n",
    "dataset = np.array(dataset,dtype=\"object\")\n",
    "print(\"Data is read\")\n",
    "dataset"
   ],
   "metadata": {
    "collapsed": false,
    "pycharm": {
     "name": "#%%\n",
     "is_executing": false
    }
   }
  },
  {
   "cell_type": "code",
   "execution_count": 43,
   "outputs": [
    {
     "name": "stdout",
     "text": [
      "Scatter plot is built\n"
     ],
     "output_type": "stream"
    },
    {
     "data": {
      "text/plain": "<Figure size 432x288 with 1 Axes>",
      "image/png": "[encoded data removed]"
     },
     "metadata": {
      "needs_background": "light"
     },
     "output_type": "display_data"
    }
   ],
   "source": [
    "fruit_markers = {\"Apple\":\"+\",\n",
    "                 \"Pear\":\"x\",\n",
    "                 \"Lemon\":\"o\"}\n",
    "\n",
    "def plot_scatter_radius_weight(data, class_name):\n",
    "    raws_to_plot = np.where(data[:,3] == class_name)\n",
    "    matrix_to_plot = data[raws_to_plot]\n",
    "    plt.scatter(matrix_to_plot[:,1],matrix_to_plot[:,2], c=\"black\", marker=fruit_markers[class_name])\n",
    "\n",
    "for fruit_name in fruit_markers.keys():\n",
    "    plot_scatter_radius_weight(dataset,fruit_name)\n",
    "plt.grid()\n",
    "plt.xlabel(\"Radius [cm]\")\n",
    "plt.ylabel(\"Weight [grams]\")\n",
    "print(\"Scatter plot is built\")\n",
    "plt.show()"
   ],
   "metadata": {
    "collapsed": false,
    "pycharm": {
     "name": "#%%\n",
     "is_executing": false
    }
   }
  },
  {
   "cell_type": "code",
   "execution_count": 44,
   "outputs": [
    {
     "name": "stdout",
     "text": [
      "Bar plot is built\n"
     ],
     "output_type": "stream"
    },
    {
     "data": {
      "text/plain": "<Figure size 432x288 with 1 Axes>",
      "image/png": "[encoded data removed]"
     },
     "metadata": {
      "needs_background": "light"
     },
     "output_type": "display_data"
    }
   ],
   "source": [
    "fruit_bar_markers = {\"Apple\":\"/\",\n",
    "                     \"Pear\" : \"o\",\n",
    "                     \"Lemon\": \"\\\\\",}\n",
    "\n",
    "colors = (\"Green\", \"Yellow\", \"Red\")\n",
    "length_between_colors = 5\n",
    "\n",
    "def plot_bar_fruit_color_frequency(data, fruit):\n",
    "    color_graph_pos = []\n",
    "    bar_length_measurements = [] \n",
    "    all_fruit = data[np.where(data[:, 3] == fruit)]\n",
    "    for color_index in range(len(colors)):\n",
    "        color_fruit = all_fruit[np.where(all_fruit[:,0] == colors[color_index])]\n",
    "        frout_color_bar_position = list(fruit_bar_markers.keys()).index(fruit) if len(color_fruit) != 0 else 0\n",
    "        current_color_graph_pos = frout_color_bar_position + color_index*length_between_colors\n",
    "        color_graph_pos.append(current_color_graph_pos)\n",
    "        bar_length_measurements.append(len(color_fruit))\n",
    "    plt.bar(color_graph_pos, bar_length_measurements, color=\"grey\",width=1, hatch=fruit_bar_markers[fruit], label=fruit)\n",
    "    return color_graph_pos\n",
    "\n",
    "positions = []\n",
    "for fruit in fruit_bar_markers.keys():\n",
    "    current_bar_pos = plot_bar_fruit_color_frequency(dataset, fruit)\n",
    "    positions.append(current_bar_pos)\n",
    "ticks = np.median(positions, axis=0)\n",
    "axes = plt.gca()\n",
    "axes.set_xticks(ticks)\n",
    "axes.set_xticklabels(colors)\n",
    "axes.legend()\n",
    "plt.ylabel(\"Frequency\")\n",
    "print(\"Bar plot is built\")\n",
    "plt.show()"
   ],
   "metadata": {
    "collapsed": false,
    "pycharm": {
     "name": "#%%\n",
     "is_executing": false
    }
   }
  },
  {
   "cell_type": "code",
   "execution_count": 45,
   "outputs": [
    {
     "name": "stdout",
     "text": [
      "Duplicates are removed\n"
     ],
     "output_type": "stream"
    },
    {
     "data": {
      "text/plain": "array([['Green', 4.3, 122.0, 'Pear'],\n       ['Green', 4.6, 152.0, 'Pear'],\n       ['Green', 3.1, 85.0, 'Apple'],\n       ['Green', 3.6, 173.0, 'Pear'],\n       ['Green', 2.5, 65.0, 'Lemon'],\n       ['Green', 2.5, 70.0, 'Apple'],\n       ['Green', 2.7, 73.0, 'Apple'],\n       ['Green', 4.5, 110.0, 'Pear'],\n       ['Green', 2.5, 86.0, 'Apple'],\n       ['Green', 2.4, 68.0, 'Lemon'],\n       ['Green', 4.2, 126.0, 'Pear'],\n       ['Red', 3.7, 101.0, 'Apple'],\n       ['Red', 3.7, 100.0, 'Apple'],\n       ['Red', 3.4, 80.0, 'Apple'],\n       ['Yellow', 3.2, 79.0, 'Apple'],\n       ['Yellow', 3.1, 69.0, 'Lemon'],\n       ['Yellow', 2.1, 64.0, 'Apple'],\n       ['Yellow', 2.6, 58.0, 'Lemon'],\n       ['Yellow', 2.1, 40.0, 'Lemon'],\n       ['Yellow', 2.3, 60.0, 'Lemon'],\n       ['Yellow', 4.2, 105.0, 'Pear'],\n       ['Yellow', 2.1, 40.0, 'Lemon'],\n       ['Yellow', 3.2, 64.0, 'Lemon'],\n       ['Yellow', 2.9, 53.0, 'Lemon'],\n       ['Yellow', 4.1, 135.0, 'Pear'],\n       ['Yellow', 5.2, 142.0, 'Pear'],\n       ['Yellow', 2.3, 60.0, 'Lemon'],\n       ['Yellow', 0.0, 137.0, 'Pear'],\n       ['Yellow', 3.0, 98.0, 'Apple'],\n       ['Yellow', 2.4, 0.0, 'Lemon'],\n       ['Yellow', 4.1, 56.0, 'Lemon'],\n       ['Yellow', 4.1, 80.0, 'Apple'],\n       ['Yellow', 5.2, 141.0, 'Pear']], dtype=object)"
     },
     "metadata": {},
     "output_type": "execute_result",
     "execution_count": 45
    }
   ],
   "source": [
    "def float_not_equal(num1, num2):\n",
    "    float_scale = pow(10, -11)\n",
    "    return not abs(num1-num2) < float_scale\n",
    "\n",
    "def rows_equal(row_a, row_b):    \n",
    "    if row_a[0] != row_b[0] or row_a[3] != row_b[3]:\n",
    "        return False\n",
    "    if float_not_equal(row_a[1], row_b[1]) or float_not_equal(row_a[2], row_b[2]):\n",
    "        return False\n",
    "    return True\n",
    "\n",
    "duplicates = []\n",
    "for i in range(len(dataset)):\n",
    "    for j in range(i+1, len(dataset[i])):\n",
    "        if rows_equal(dataset[i], dataset[j]):\n",
    "            duplicates.append(j)\n",
    "dataset = np.delete(dataset, duplicates, axis=0)\n",
    "print(\"Duplicates are removed\")\n",
    "dataset"
   ],
   "metadata": {
    "collapsed": false,
    "pycharm": {
     "name": "#%%\n",
     "is_executing": false
    }
   }
  },
  {
   "cell_type": "code",
   "execution_count": 46,
   "outputs": [
    {
     "name": "stdout",
     "text": [
      "Zero values replaced by mean",
      "\n"
     ],
     "output_type": "stream"
    },
    {
     "data": {
      "text/plain": "array([['Green', 4.3, 122.0, 'Pear'],\n       ['Green', 4.6, 152.0, 'Pear'],\n       ['Green', 3.1, 85.0, 'Apple'],\n       ['Green', 3.6, 173.0, 'Pear'],\n       ['Green', 2.5, 65.0, 'Lemon'],\n       ['Green', 2.5, 70.0, 'Apple'],\n       ['Green', 2.7, 73.0, 'Apple'],\n       ['Green', 4.5, 110.0, 'Pear'],\n       ['Green', 2.5, 86.0, 'Apple'],\n       ['Green', 2.4, 68.0, 'Lemon'],\n       ['Green', 4.2, 126.0, 'Pear'],\n       ['Red', 3.7, 101.0, 'Apple'],\n       ['Red', 3.7, 100.0, 'Apple'],\n       ['Red', 3.4, 80.0, 'Apple'],\n       ['Yellow', 3.2, 79.0, 'Apple'],\n       ['Yellow', 3.1, 69.0, 'Lemon'],\n       ['Yellow', 2.1, 64.0, 'Apple'],\n       ['Yellow', 2.6, 58.0, 'Lemon'],\n       ['Yellow', 2.1, 40.0, 'Lemon'],\n       ['Yellow', 2.3, 60.0, 'Lemon'],\n       ['Yellow', 4.2, 105.0, 'Pear'],\n       ['Yellow', 2.1, 40.0, 'Lemon'],\n       ['Yellow', 3.2, 64.0, 'Lemon'],\n       ['Yellow', 2.9, 53.0, 'Lemon'],\n       ['Yellow', 4.1, 135.0, 'Pear'],\n       ['Yellow', 5.2, 142.0, 'Pear'],\n       ['Yellow', 2.3, 60.0, 'Lemon'],\n       ['Yellow', 3.309375, 137.0, 'Pear'],\n       ['Yellow', 3.0, 98.0, 'Apple'],\n       ['Yellow', 2.4, 90.375, 'Lemon'],\n       ['Yellow', 4.1, 56.0, 'Lemon'],\n       ['Yellow', 4.1, 80.0, 'Apple'],\n       ['Yellow', 5.2, 141.0, 'Pear']], dtype=object)"
     },
     "metadata": {},
     "output_type": "execute_result",
     "execution_count": 46
    }
   ],
   "source": [
    "zero_indecies = np.where(dataset == 0.0)\n",
    "rows, cols = zero_indecies\n",
    "for i in range(len(rows)):\n",
    "    x = rows[i]\n",
    "    y = cols[i]\n",
    "    array_for_mean = dataset[:,y]\n",
    "    val = np.mean(np.delete(array_for_mean, x))\n",
    "    dataset[x,y] = val\n",
    "print(\"Zero values replaced by mean\")\n",
    "dataset"
   ],
   "metadata": {
    "collapsed": false,
    "pycharm": {
     "name": "#%%\n",
     "is_executing": false
    }
   }
  },
  {
   "cell_type": "code",
   "execution_count": 47,
   "outputs": [
    {
     "name": "stdout",
     "text": [
      "String values instead of class value are replaced for numbers\n"
     ],
     "output_type": "stream"
    },
    {
     "data": {
      "text/plain": "array([[0, 4.3, 122.0, 'Pear'],\n       [0, 4.6, 152.0, 'Pear'],\n       [0, 3.1, 85.0, 'Apple'],\n       [0, 3.6, 173.0, 'Pear'],\n       [0, 2.5, 65.0, 'Lemon'],\n       [0, 2.5, 70.0, 'Apple'],\n       [0, 2.7, 73.0, 'Apple'],\n       [0, 4.5, 110.0, 'Pear'],\n       [0, 2.5, 86.0, 'Apple'],\n       [0, 2.4, 68.0, 'Lemon'],\n       [0, 4.2, 126.0, 'Pear'],\n       [1, 3.7, 101.0, 'Apple'],\n       [1, 3.7, 100.0, 'Apple'],\n       [1, 3.4, 80.0, 'Apple'],\n       [2, 3.2, 79.0, 'Apple'],\n       [2, 3.1, 69.0, 'Lemon'],\n       [2, 2.1, 64.0, 'Apple'],\n       [2, 2.6, 58.0, 'Lemon'],\n       [2, 2.1, 40.0, 'Lemon'],\n       [2, 2.3, 60.0, 'Lemon'],\n       [2, 4.2, 105.0, 'Pear'],\n       [2, 2.1, 40.0, 'Lemon'],\n       [2, 3.2, 64.0, 'Lemon'],\n       [2, 2.9, 53.0, 'Lemon'],\n       [2, 4.1, 135.0, 'Pear'],\n       [2, 5.2, 142.0, 'Pear'],\n       [2, 2.3, 60.0, 'Lemon'],\n       [2, 3.309375, 137.0, 'Pear'],\n       [2, 3.0, 98.0, 'Apple'],\n       [2, 2.4, 90.375, 'Lemon'],\n       [2, 4.1, 56.0, 'Lemon'],\n       [2, 4.1, 80.0, 'Apple'],\n       [2, 5.2, 141.0, 'Pear']], dtype=object)"
     },
     "metadata": {},
     "output_type": "execute_result",
     "execution_count": 47
    }
   ],
   "source": [
    "colors_numeration = {\"Green\" : 0,\n",
    "                     \"Red\" : 1,\n",
    "                     \"Yellow\" : 2}\n",
    "for k,v in colors_numeration.items():\n",
    "    dataset[dataset == k] = v\n",
    "print(\"String values instead of class value are replaced for numbers\")\n",
    "dataset"
   ],
   "metadata": {
    "collapsed": false,
    "pycharm": {
     "name": "#%%\n",
     "is_executing": false
    }
   }
  },
  {
   "cell_type": "code",
   "execution_count": 48,
   "outputs": [
    {
     "name": "stdout",
     "text": [
      "Matrix normalized through the min max criteria\n"
     ],
     "output_type": "stream"
    },
    {
     "data": {
      "text/plain": "array([[0.0, 0.7096774193548386, 0.6165413533834586, 'Pear'],\n       [0.0, 0.8064516129032256, 0.8421052631578947, 'Pear'],\n       [0.0, 0.3225806451612903, 0.3383458646616541, 'Apple'],\n       [0.0, 0.48387096774193544, 1.0, 'Pear'],\n       [0.0, 0.1290322580645161, 0.18796992481203006, 'Lemon'],\n       [0.0, 0.1290322580645161, 0.22556390977443608, 'Apple'],\n       [0.0, 0.19354838709677422, 0.24812030075187969, 'Apple'],\n       [0.0, 0.7741935483870968, 0.5263157894736842, 'Pear'],\n       [0.0, 0.1290322580645161, 0.3458646616541353, 'Apple'],\n       [0.0, 0.09677419354838704, 0.21052631578947367, 'Lemon'],\n       [0.0, 0.6774193548387097, 0.6466165413533834, 'Pear'],\n       [0.5, 0.5161290322580645, 0.45864661654135336, 'Apple'],\n       [0.5, 0.5161290322580645, 0.45112781954887216, 'Apple'],\n       [0.5, 0.4193548387096773, 0.3007518796992481, 'Apple'],\n       [1.0, 0.3548387096774194, 0.2932330827067669, 'Apple'],\n       [1.0, 0.3225806451612903, 0.21804511278195488, 'Lemon'],\n       [1.0, 0.0, 0.18045112781954886, 'Apple'],\n       [1.0, 0.16129032258064516, 0.13533834586466165, 'Lemon'],\n       [1.0, 0.0, 0.0, 'Lemon'],\n       [1.0, 0.06451612903225798, 0.15037593984962405, 'Lemon'],\n       [1.0, 0.6774193548387097, 0.48872180451127817, 'Pear'],\n       [1.0, 0.0, 0.0, 'Lemon'],\n       [1.0, 0.3548387096774194, 0.18045112781954886, 'Lemon'],\n       [1.0, 0.2580645161290322, 0.09774436090225563, 'Lemon'],\n       [1.0, 0.6451612903225805, 0.7142857142857143, 'Pear'],\n       [1.0, 1.0, 0.7669172932330827, 'Pear'],\n       [1.0, 0.06451612903225798, 0.15037593984962405, 'Lemon'],\n       [1.0, 0.3901209677419355, 0.7293233082706767, 'Pear'],\n       [1.0, 0.29032258064516125, 0.43609022556390975, 'Apple'],\n       [1.0, 0.09677419354838704, 0.37875939849624063, 'Lemon'],\n       [1.0, 0.6451612903225805, 0.12030075187969924, 'Lemon'],\n       [1.0, 0.6451612903225805, 0.3007518796992481, 'Apple'],\n       [1.0, 1.0, 0.7593984962406015, 'Pear']], dtype=object)"
     },
     "metadata": {},
     "output_type": "execute_result",
     "execution_count": 48
    }
   ],
   "source": [
    "min_val = np.min(dataset[:,:3], axis=0)\n",
    "max_val = np.max(dataset[:,:3], axis=0)\n",
    "dataset[:, :3] = (dataset[:, :3] - min_val)/(max_val - min_val)\n",
    "print(\"Matrix normalized through the min max criteria\")\n",
    "dataset"
   ],
   "metadata": {
    "collapsed": false,
    "pycharm": {
     "name": "#%%\n",
     "is_executing": false
    }
   }
  }
 ],
 "metadata": {
  "kernelspec": {
   "display_name": "Python 3",
   "language": "python",
   "name": "python3"
  },
  "language_info": {
   "codemirror_mode": {
    "name": "ipython",
    "version": 2
   },
   "file_extension": ".py",
   "mimetype": "text/x-python",
   "name": "python",
   "nbconvert_exporter": "python",
   "pygments_lexer": "ipython2",
   "version": "2.7.6"
  },
  "pycharm": {
   "stem_cell": {
    "cell_type": "raw",
    "source": [],
    "metadata": {
     "collapsed": false
    }
   }
  }
 },
 "nbformat": 4,
 "nbformat_minor": 0
}